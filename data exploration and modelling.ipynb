{
 "cells": [
  {
   "cell_type": "code",
   "execution_count": 3,
   "id": "3c89e198-c29a-4604-bd2f-17fb370dd879",
   "metadata": {},
   "outputs": [
    {
     "name": "stdout",
     "output_type": "stream",
     "text": [
      "Collecting xgboost\n",
      "  Downloading xgboost-3.0.2-py3-none-win_amd64.whl.metadata (2.1 kB)\n",
      "Requirement already satisfied: numpy in c:\\programdata\\anaconda3\\lib\\site-packages (from xgboost) (2.1.3)\n",
      "Requirement already satisfied: scipy in c:\\programdata\\anaconda3\\lib\\site-packages (from xgboost) (1.15.3)\n",
      "Downloading xgboost-3.0.2-py3-none-win_amd64.whl (150.0 MB)\n",
      "   ---------------------------------------- 0.0/150.0 MB ? eta -:--:--\n",
      "   ---------------------------------------- 0.5/150.0 MB 3.1 MB/s eta 0:00:48\n",
      "   ---------------------------------------- 1.3/150.0 MB 3.7 MB/s eta 0:00:41\n",
      "   ---------------------------------------- 1.8/150.0 MB 3.2 MB/s eta 0:00:46\n",
      "    --------------------------------------- 2.4/150.0 MB 2.7 MB/s eta 0:00:55\n",
      "    --------------------------------------- 2.6/150.0 MB 2.5 MB/s eta 0:01:00\n",
      "    --------------------------------------- 2.9/150.0 MB 2.4 MB/s eta 0:01:03\n",
      "    --------------------------------------- 3.4/150.0 MB 2.3 MB/s eta 0:01:04\n",
      "   - -------------------------------------- 3.9/150.0 MB 2.3 MB/s eta 0:01:05\n",
      "   - -------------------------------------- 4.5/150.0 MB 2.3 MB/s eta 0:01:05\n",
      "   - -------------------------------------- 5.0/150.0 MB 2.3 MB/s eta 0:01:04\n",
      "   - -------------------------------------- 5.5/150.0 MB 2.3 MB/s eta 0:01:02\n",
      "   - -------------------------------------- 6.3/150.0 MB 2.4 MB/s eta 0:01:01\n",
      "   - -------------------------------------- 6.8/150.0 MB 2.4 MB/s eta 0:00:59\n",
      "   -- ------------------------------------- 7.6/150.0 MB 2.5 MB/s eta 0:00:57\n",
      "   -- ------------------------------------- 8.1/150.0 MB 2.5 MB/s eta 0:00:57\n",
      "   -- ------------------------------------- 8.7/150.0 MB 2.5 MB/s eta 0:00:56\n",
      "   -- ------------------------------------- 9.4/150.0 MB 2.6 MB/s eta 0:00:55\n",
      "   -- ------------------------------------- 10.2/150.0 MB 2.6 MB/s eta 0:00:54\n",
      "   -- ------------------------------------- 11.0/150.0 MB 2.7 MB/s eta 0:00:53\n",
      "   --- ------------------------------------ 11.5/150.0 MB 2.7 MB/s eta 0:00:52\n",
      "   --- ------------------------------------ 12.1/150.0 MB 2.7 MB/s eta 0:00:52\n",
      "   --- ------------------------------------ 12.3/150.0 MB 2.6 MB/s eta 0:00:53\n",
      "   --- ------------------------------------ 12.6/150.0 MB 2.6 MB/s eta 0:00:53\n",
      "   --- ------------------------------------ 12.8/150.0 MB 2.6 MB/s eta 0:00:54\n",
      "   --- ------------------------------------ 13.4/150.0 MB 2.5 MB/s eta 0:00:56\n",
      "   --- ------------------------------------ 13.6/150.0 MB 2.4 MB/s eta 0:00:56\n",
      "   --- ------------------------------------ 14.2/150.0 MB 2.4 MB/s eta 0:00:56\n",
      "   --- ------------------------------------ 14.7/150.0 MB 2.4 MB/s eta 0:00:56\n",
      "   ---- ----------------------------------- 15.2/150.0 MB 2.4 MB/s eta 0:00:56\n",
      "   ---- ----------------------------------- 15.7/150.0 MB 2.4 MB/s eta 0:00:56\n",
      "   ---- ----------------------------------- 16.5/150.0 MB 2.5 MB/s eta 0:00:55\n",
      "   ---- ----------------------------------- 17.3/150.0 MB 2.5 MB/s eta 0:00:54\n",
      "   ---- ----------------------------------- 17.8/150.0 MB 2.5 MB/s eta 0:00:53\n",
      "   ----- ---------------------------------- 18.9/150.0 MB 2.6 MB/s eta 0:00:52\n",
      "   ----- ---------------------------------- 19.7/150.0 MB 2.6 MB/s eta 0:00:51\n",
      "   ----- ---------------------------------- 20.4/150.0 MB 2.6 MB/s eta 0:00:50\n",
      "   ----- ---------------------------------- 21.5/150.0 MB 2.7 MB/s eta 0:00:48\n",
      "   ------ --------------------------------- 22.5/150.0 MB 2.7 MB/s eta 0:00:47\n",
      "   ------ --------------------------------- 23.3/150.0 MB 2.8 MB/s eta 0:00:46\n",
      "   ------ --------------------------------- 24.4/150.0 MB 2.8 MB/s eta 0:00:45\n",
      "   ------ --------------------------------- 25.4/150.0 MB 2.9 MB/s eta 0:00:44\n",
      "   ------ --------------------------------- 26.2/150.0 MB 2.9 MB/s eta 0:00:43\n",
      "   ------- -------------------------------- 27.3/150.0 MB 2.9 MB/s eta 0:00:42\n",
      "   ------- -------------------------------- 28.0/150.0 MB 2.9 MB/s eta 0:00:42\n",
      "   ------- -------------------------------- 29.1/150.0 MB 3.0 MB/s eta 0:00:41\n",
      "   ------- -------------------------------- 29.9/150.0 MB 3.0 MB/s eta 0:00:40\n",
      "   -------- ------------------------------- 30.9/150.0 MB 3.1 MB/s eta 0:00:40\n",
      "   -------- ------------------------------- 32.0/150.0 MB 3.1 MB/s eta 0:00:39\n",
      "   -------- ------------------------------- 33.3/150.0 MB 3.1 MB/s eta 0:00:38\n",
      "   --------- ------------------------------ 34.3/150.0 MB 3.2 MB/s eta 0:00:37\n",
      "   --------- ------------------------------ 35.4/150.0 MB 3.2 MB/s eta 0:00:36\n",
      "   --------- ------------------------------ 36.7/150.0 MB 3.3 MB/s eta 0:00:35\n",
      "   ---------- ----------------------------- 38.0/150.0 MB 3.3 MB/s eta 0:00:34\n",
      "   ---------- ----------------------------- 39.1/150.0 MB 3.3 MB/s eta 0:00:34\n",
      "   ---------- ----------------------------- 39.8/150.0 MB 3.4 MB/s eta 0:00:33\n",
      "   ---------- ----------------------------- 40.6/150.0 MB 3.4 MB/s eta 0:00:33\n",
      "   ----------- ---------------------------- 41.7/150.0 MB 3.4 MB/s eta 0:00:32\n",
      "   ----------- ---------------------------- 43.0/150.0 MB 3.4 MB/s eta 0:00:32\n",
      "   ----------- ---------------------------- 44.0/150.0 MB 3.5 MB/s eta 0:00:31\n",
      "   ------------ --------------------------- 45.1/150.0 MB 3.5 MB/s eta 0:00:31\n",
      "   ------------ --------------------------- 46.4/150.0 MB 3.5 MB/s eta 0:00:30\n",
      "   ------------ --------------------------- 47.7/150.0 MB 3.6 MB/s eta 0:00:29\n",
      "   ------------- -------------------------- 48.8/150.0 MB 3.6 MB/s eta 0:00:29\n",
      "   ------------- -------------------------- 49.8/150.0 MB 3.6 MB/s eta 0:00:28\n",
      "   ------------- -------------------------- 51.1/150.0 MB 3.6 MB/s eta 0:00:28\n",
      "   -------------- ------------------------- 52.7/150.0 MB 3.7 MB/s eta 0:00:27\n",
      "   -------------- ------------------------- 54.0/150.0 MB 3.7 MB/s eta 0:00:26\n",
      "   -------------- ------------------------- 55.3/150.0 MB 3.8 MB/s eta 0:00:26\n",
      "   --------------- ------------------------ 56.9/150.0 MB 3.8 MB/s eta 0:00:25\n",
      "   --------------- ------------------------ 58.5/150.0 MB 3.9 MB/s eta 0:00:24\n",
      "   --------------- ------------------------ 59.8/150.0 MB 3.9 MB/s eta 0:00:24\n",
      "   ---------------- ----------------------- 61.6/150.0 MB 4.0 MB/s eta 0:00:23\n",
      "   ---------------- ----------------------- 62.9/150.0 MB 4.0 MB/s eta 0:00:22\n",
      "   ----------------- ---------------------- 64.5/150.0 MB 4.0 MB/s eta 0:00:22\n",
      "   ----------------- ---------------------- 66.3/150.0 MB 4.1 MB/s eta 0:00:21\n",
      "   ----------------- ---------------------- 67.1/150.0 MB 4.1 MB/s eta 0:00:21\n",
      "   ------------------ --------------------- 68.4/150.0 MB 4.1 MB/s eta 0:00:20\n",
      "   ------------------ --------------------- 68.9/150.0 MB 4.1 MB/s eta 0:00:20\n",
      "   ------------------ --------------------- 70.0/150.0 MB 4.1 MB/s eta 0:00:20\n",
      "   ------------------ --------------------- 70.5/150.0 MB 4.1 MB/s eta 0:00:20\n",
      "   ------------------- -------------------- 71.3/150.0 MB 4.1 MB/s eta 0:00:20\n",
      "   ------------------- -------------------- 72.4/150.0 MB 4.1 MB/s eta 0:00:20\n",
      "   ------------------- -------------------- 73.4/150.0 MB 4.1 MB/s eta 0:00:19\n",
      "   ------------------- -------------------- 74.2/150.0 MB 4.1 MB/s eta 0:00:19\n",
      "   -------------------- ------------------- 75.2/150.0 MB 4.1 MB/s eta 0:00:19\n",
      "   -------------------- ------------------- 75.8/150.0 MB 4.1 MB/s eta 0:00:19\n",
      "   -------------------- ------------------- 76.3/150.0 MB 4.1 MB/s eta 0:00:19\n",
      "   -------------------- ------------------- 77.1/150.0 MB 4.1 MB/s eta 0:00:18\n",
      "   -------------------- ------------------- 78.1/150.0 MB 4.1 MB/s eta 0:00:18\n",
      "   --------------------- ------------------ 79.2/150.0 MB 4.1 MB/s eta 0:00:18\n",
      "   --------------------- ------------------ 80.2/150.0 MB 4.1 MB/s eta 0:00:18\n",
      "   --------------------- ------------------ 81.3/150.0 MB 4.1 MB/s eta 0:00:17\n",
      "   --------------------- ------------------ 82.3/150.0 MB 4.1 MB/s eta 0:00:17\n",
      "   ---------------------- ----------------- 83.6/150.0 MB 4.1 MB/s eta 0:00:17\n",
      "   ---------------------- ----------------- 84.9/150.0 MB 4.1 MB/s eta 0:00:16\n",
      "   ----------------------- ---------------- 86.2/150.0 MB 4.2 MB/s eta 0:00:16\n",
      "   ----------------------- ---------------- 87.8/150.0 MB 4.2 MB/s eta 0:00:15\n",
      "   ----------------------- ---------------- 89.1/150.0 MB 4.2 MB/s eta 0:00:15\n",
      "   ------------------------ --------------- 90.7/150.0 MB 4.2 MB/s eta 0:00:14\n",
      "   ------------------------ --------------- 92.0/150.0 MB 4.3 MB/s eta 0:00:14\n",
      "   ------------------------ --------------- 93.6/150.0 MB 4.3 MB/s eta 0:00:14\n",
      "   ------------------------- -------------- 95.2/150.0 MB 4.3 MB/s eta 0:00:13\n",
      "   ------------------------- -------------- 96.7/150.0 MB 4.4 MB/s eta 0:00:13\n",
      "   -------------------------- ------------- 98.3/150.0 MB 4.4 MB/s eta 0:00:12\n",
      "   -------------------------- ------------- 100.1/150.0 MB 4.4 MB/s eta 0:00:12\n",
      "   --------------------------- ------------ 101.7/150.0 MB 4.5 MB/s eta 0:00:11\n",
      "   --------------------------- ------------ 103.5/150.0 MB 4.5 MB/s eta 0:00:11\n",
      "   ---------------------------- ----------- 105.1/150.0 MB 4.5 MB/s eta 0:00:10\n",
      "   ---------------------------- ----------- 107.0/150.0 MB 4.6 MB/s eta 0:00:10\n",
      "   ----------------------------- ---------- 108.8/150.0 MB 4.6 MB/s eta 0:00:09\n",
      "   ----------------------------- ---------- 110.1/150.0 MB 4.6 MB/s eta 0:00:09\n",
      "   ----------------------------- ---------- 111.7/150.0 MB 4.6 MB/s eta 0:00:09\n",
      "   ------------------------------ --------- 113.2/150.0 MB 4.7 MB/s eta 0:00:08\n",
      "   ------------------------------ --------- 114.8/150.0 MB 4.7 MB/s eta 0:00:08\n",
      "   ------------------------------ --------- 115.9/150.0 MB 4.7 MB/s eta 0:00:08\n",
      "   ------------------------------- -------- 116.7/150.0 MB 4.7 MB/s eta 0:00:08\n",
      "   ------------------------------- -------- 117.4/150.0 MB 4.7 MB/s eta 0:00:07\n",
      "   ------------------------------- -------- 118.5/150.0 MB 4.7 MB/s eta 0:00:07\n",
      "   ------------------------------- -------- 119.5/150.0 MB 4.7 MB/s eta 0:00:07\n",
      "   -------------------------------- ------- 120.3/150.0 MB 4.7 MB/s eta 0:00:07\n",
      "   -------------------------------- ------- 121.4/150.0 MB 4.7 MB/s eta 0:00:07\n",
      "   -------------------------------- ------- 122.7/150.0 MB 4.7 MB/s eta 0:00:06\n",
      "   --------------------------------- ------ 123.7/150.0 MB 4.7 MB/s eta 0:00:06\n",
      "   --------------------------------- ------ 125.0/150.0 MB 4.7 MB/s eta 0:00:06\n",
      "   --------------------------------- ------ 126.4/150.0 MB 4.7 MB/s eta 0:00:06\n",
      "   ---------------------------------- ----- 127.7/150.0 MB 4.7 MB/s eta 0:00:05\n",
      "   ---------------------------------- ----- 129.0/150.0 MB 4.7 MB/s eta 0:00:05\n",
      "   ---------------------------------- ----- 130.3/150.0 MB 4.7 MB/s eta 0:00:05\n",
      "   ----------------------------------- ---- 131.9/150.0 MB 4.7 MB/s eta 0:00:04\n",
      "   ----------------------------------- ---- 133.2/150.0 MB 4.8 MB/s eta 0:00:04\n",
      "   ----------------------------------- ---- 134.7/150.0 MB 4.8 MB/s eta 0:00:04\n",
      "   ------------------------------------ --- 136.3/150.0 MB 4.8 MB/s eta 0:00:03\n",
      "   ------------------------------------ --- 137.9/150.0 MB 4.8 MB/s eta 0:00:03\n",
      "   ------------------------------------- -- 139.2/150.0 MB 4.8 MB/s eta 0:00:03\n",
      "   ------------------------------------- -- 140.8/150.0 MB 4.8 MB/s eta 0:00:02\n",
      "   ------------------------------------- -- 142.3/150.0 MB 4.9 MB/s eta 0:00:02\n",
      "   -------------------------------------- - 144.2/150.0 MB 4.9 MB/s eta 0:00:02\n",
      "   -------------------------------------- - 145.8/150.0 MB 4.9 MB/s eta 0:00:01\n",
      "   ---------------------------------------  147.1/150.0 MB 4.9 MB/s eta 0:00:01\n",
      "   ---------------------------------------  148.6/150.0 MB 4.9 MB/s eta 0:00:01\n",
      "   ---------------------------------------  149.9/150.0 MB 5.0 MB/s eta 0:00:01\n",
      "   ---------------------------------------  149.9/150.0 MB 5.0 MB/s eta 0:00:01\n",
      "   ---------------------------------------- 150.0/150.0 MB 4.9 MB/s eta 0:00:00\n",
      "Installing collected packages: xgboost\n",
      "Successfully installed xgboost-3.0.2\n"
     ]
    }
   ],
   "source": [
    "!pip install xgboost"
   ]
  },
  {
   "cell_type": "code",
   "execution_count": 10,
   "id": "187456dc-0acb-4d0a-a325-21b71af84031",
   "metadata": {},
   "outputs": [
    {
     "name": "stderr",
     "output_type": "stream",
     "text": [
      "[nltk_data] Downloading package stopwords to C:\\Users\\Deanna\n",
      "[nltk_data]     Jenevieve\\AppData\\Roaming\\nltk_data...\n",
      "[nltk_data]   Package stopwords is already up-to-date!\n"
     ]
    }
   ],
   "source": [
    "import numpy as np\n",
    "import pandas as pd\n",
    "import matplotlib.pyplot as plt\n",
    "import seaborn as sns\n",
    "import nltk\n",
    "from nltk.stem.porter import PorterStemmer\n",
    "nltk.download('stopwords')\n",
    "from nltk.corpus import stopwords\n",
    "STOPWORDS = set(stopwords.words('english'))\n",
    "\n",
    "from sklearn.model_selection import train_test_split\n",
    "from sklearn.preprocessing import MinMaxScaler\n",
    "from sklearn.feature_extraction.text import CountVectorizer\n",
    "from sklearn.model_selection import cross_val_score\n",
    "from sklearn.ensemble import RandomForestClassifier\n",
    "from sklearn.metrics import confusion_matrix, ConfusionMatrixDisplay\n",
    "from sklearn.model_selection import GridSearchCV\n",
    "from sklearn.model_selection import StratifiedKFold\n",
    "from sklearn.metrics import accuracy_score\n",
    "from wordcloud import WordCloud\n",
    "from sklearn.tree import DecisionTreeClassifier\n",
    "from xgboost import XGBClassifier\n",
    "import pickle\n",
    "import re"
   ]
  },
  {
   "cell_type": "code",
   "execution_count": 11,
   "id": "35fba2d8-77ec-4976-801b-3d594c4f25f4",
   "metadata": {},
   "outputs": [
    {
     "name": "stdout",
     "output_type": "stream",
     "text": [
      "Requirement already satisfied: wordcloud in c:\\programdata\\anaconda3\\lib\\site-packages (1.9.4)Note: you may need to restart the kernel to use updated packages.\n",
      "\n",
      "Requirement already satisfied: numpy>=1.6.1 in c:\\programdata\\anaconda3\\lib\\site-packages (from wordcloud) (2.1.3)\n",
      "Requirement already satisfied: pillow in c:\\programdata\\anaconda3\\lib\\site-packages (from wordcloud) (11.1.0)\n",
      "Requirement already satisfied: matplotlib in c:\\programdata\\anaconda3\\lib\\site-packages (from wordcloud) (3.10.0)\n",
      "Requirement already satisfied: contourpy>=1.0.1 in c:\\programdata\\anaconda3\\lib\\site-packages (from matplotlib->wordcloud) (1.3.1)\n",
      "Requirement already satisfied: cycler>=0.10 in c:\\programdata\\anaconda3\\lib\\site-packages (from matplotlib->wordcloud) (0.11.0)\n",
      "Requirement already satisfied: fonttools>=4.22.0 in c:\\programdata\\anaconda3\\lib\\site-packages (from matplotlib->wordcloud) (4.55.3)\n",
      "Requirement already satisfied: kiwisolver>=1.3.1 in c:\\programdata\\anaconda3\\lib\\site-packages (from matplotlib->wordcloud) (1.4.8)\n",
      "Requirement already satisfied: packaging>=20.0 in c:\\programdata\\anaconda3\\lib\\site-packages (from matplotlib->wordcloud) (24.2)\n",
      "Requirement already satisfied: pyparsing>=2.3.1 in c:\\programdata\\anaconda3\\lib\\site-packages (from matplotlib->wordcloud) (3.2.0)\n",
      "Requirement already satisfied: python-dateutil>=2.7 in c:\\programdata\\anaconda3\\lib\\site-packages (from matplotlib->wordcloud) (2.9.0.post0)\n",
      "Requirement already satisfied: six>=1.5 in c:\\programdata\\anaconda3\\lib\\site-packages (from python-dateutil>=2.7->matplotlib->wordcloud) (1.17.0)\n"
     ]
    }
   ],
   "source": [
    "%pip install wordcloud\n"
   ]
  },
  {
   "cell_type": "code",
   "execution_count": 12,
   "id": "42ea4299-bc7b-48ba-8291-8a757916db57",
   "metadata": {},
   "outputs": [
    {
     "name": "stdout",
     "output_type": "stream",
     "text": [
      "Dataset shape : (3150, 5)\n"
     ]
    }
   ],
   "source": [
    "#Load the data\n",
    "\n",
    "data = pd.read_csv(r\"Data\\amazon_alexa.tsv\", delimiter = '\\t', quoting = 3)\n",
    "\n",
    "print(f\"Dataset shape : {data.shape}\")"
   ]
  },
  {
   "cell_type": "code",
   "execution_count": 13,
   "id": "062f3875-3b0e-4ba0-bd12-f855de1b324e",
   "metadata": {},
   "outputs": [
    {
     "data": {
      "text/html": [
       "<div>\n",
       "<style scoped>\n",
       "    .dataframe tbody tr th:only-of-type {\n",
       "        vertical-align: middle;\n",
       "    }\n",
       "\n",
       "    .dataframe tbody tr th {\n",
       "        vertical-align: top;\n",
       "    }\n",
       "\n",
       "    .dataframe thead th {\n",
       "        text-align: right;\n",
       "    }\n",
       "</style>\n",
       "<table border=\"1\" class=\"dataframe\">\n",
       "  <thead>\n",
       "    <tr style=\"text-align: right;\">\n",
       "      <th></th>\n",
       "      <th>rating</th>\n",
       "      <th>date</th>\n",
       "      <th>variation</th>\n",
       "      <th>verified_reviews</th>\n",
       "      <th>feedback</th>\n",
       "    </tr>\n",
       "  </thead>\n",
       "  <tbody>\n",
       "    <tr>\n",
       "      <th>0</th>\n",
       "      <td>5</td>\n",
       "      <td>31-Jul-18</td>\n",
       "      <td>Charcoal Fabric</td>\n",
       "      <td>Love my Echo!</td>\n",
       "      <td>1</td>\n",
       "    </tr>\n",
       "    <tr>\n",
       "      <th>1</th>\n",
       "      <td>5</td>\n",
       "      <td>31-Jul-18</td>\n",
       "      <td>Charcoal Fabric</td>\n",
       "      <td>Loved it!</td>\n",
       "      <td>1</td>\n",
       "    </tr>\n",
       "    <tr>\n",
       "      <th>2</th>\n",
       "      <td>4</td>\n",
       "      <td>31-Jul-18</td>\n",
       "      <td>Walnut Finish</td>\n",
       "      <td>\"Sometimes while playing a game, you can answe...</td>\n",
       "      <td>1</td>\n",
       "    </tr>\n",
       "    <tr>\n",
       "      <th>3</th>\n",
       "      <td>5</td>\n",
       "      <td>31-Jul-18</td>\n",
       "      <td>Charcoal Fabric</td>\n",
       "      <td>\"I have had a lot of fun with this thing. My 4...</td>\n",
       "      <td>1</td>\n",
       "    </tr>\n",
       "    <tr>\n",
       "      <th>4</th>\n",
       "      <td>5</td>\n",
       "      <td>31-Jul-18</td>\n",
       "      <td>Charcoal Fabric</td>\n",
       "      <td>Music</td>\n",
       "      <td>1</td>\n",
       "    </tr>\n",
       "  </tbody>\n",
       "</table>\n",
       "</div>"
      ],
      "text/plain": [
       "   rating       date         variation  \\\n",
       "0       5  31-Jul-18  Charcoal Fabric    \n",
       "1       5  31-Jul-18  Charcoal Fabric    \n",
       "2       4  31-Jul-18    Walnut Finish    \n",
       "3       5  31-Jul-18  Charcoal Fabric    \n",
       "4       5  31-Jul-18  Charcoal Fabric    \n",
       "\n",
       "                                    verified_reviews  feedback  \n",
       "0                                      Love my Echo!         1  \n",
       "1                                          Loved it!         1  \n",
       "2  \"Sometimes while playing a game, you can answe...         1  \n",
       "3  \"I have had a lot of fun with this thing. My 4...         1  \n",
       "4                                              Music         1  "
      ]
     },
     "execution_count": 13,
     "metadata": {},
     "output_type": "execute_result"
    }
   ],
   "source": [
    "data.head()"
   ]
  },
  {
   "cell_type": "code",
   "execution_count": 14,
   "id": "890fb22a-ee0b-4992-9e74-ab0381b763db",
   "metadata": {},
   "outputs": [
    {
     "name": "stdout",
     "output_type": "stream",
     "text": [
      "Feature names : ['rating' 'date' 'variation' 'verified_reviews' 'feedback']\n"
     ]
    }
   ],
   "source": [
    "#Column names\n",
    "\n",
    "print(f\"Feature names : {data.columns.values}\")"
   ]
  },
  {
   "cell_type": "code",
   "execution_count": 15,
   "id": "98923bf3-b84d-4c09-9a90-3d838b78f330",
   "metadata": {},
   "outputs": [
    {
     "data": {
      "text/plain": [
       "rating              0\n",
       "date                0\n",
       "variation           0\n",
       "verified_reviews    1\n",
       "feedback            0\n",
       "dtype: int64"
      ]
     },
     "execution_count": 15,
     "metadata": {},
     "output_type": "execute_result"
    }
   ],
   "source": [
    "#Check for null values\n",
    "\n",
    "data.isnull().sum()"
   ]
  },
  {
   "cell_type": "code",
   "execution_count": 16,
   "id": "adc5ac7b-9f5b-4d8f-85dd-c8db24d76b15",
   "metadata": {},
   "outputs": [
    {
     "data": {
      "text/html": [
       "<div>\n",
       "<style scoped>\n",
       "    .dataframe tbody tr th:only-of-type {\n",
       "        vertical-align: middle;\n",
       "    }\n",
       "\n",
       "    .dataframe tbody tr th {\n",
       "        vertical-align: top;\n",
       "    }\n",
       "\n",
       "    .dataframe thead th {\n",
       "        text-align: right;\n",
       "    }\n",
       "</style>\n",
       "<table border=\"1\" class=\"dataframe\">\n",
       "  <thead>\n",
       "    <tr style=\"text-align: right;\">\n",
       "      <th></th>\n",
       "      <th>rating</th>\n",
       "      <th>date</th>\n",
       "      <th>variation</th>\n",
       "      <th>verified_reviews</th>\n",
       "      <th>feedback</th>\n",
       "    </tr>\n",
       "  </thead>\n",
       "  <tbody>\n",
       "    <tr>\n",
       "      <th>473</th>\n",
       "      <td>2</td>\n",
       "      <td>29-Jun-18</td>\n",
       "      <td>White</td>\n",
       "      <td>NaN</td>\n",
       "      <td>0</td>\n",
       "    </tr>\n",
       "  </tbody>\n",
       "</table>\n",
       "</div>"
      ],
      "text/plain": [
       "     rating       date variation verified_reviews  feedback\n",
       "473       2  29-Jun-18     White              NaN         0"
      ]
     },
     "execution_count": 16,
     "metadata": {},
     "output_type": "execute_result"
    }
   ],
   "source": [
    "#Getting the record where 'verified_reviews' is null \n",
    "\n",
    "data[data['verified_reviews'].isna() == True]"
   ]
  },
  {
   "cell_type": "code",
   "execution_count": 17,
   "id": "5200bf26-18fa-46a1-b2f0-c14f85d814aa",
   "metadata": {},
   "outputs": [],
   "source": [
    "#We will drop the null record\n",
    "\n",
    "data.dropna(inplace=True)"
   ]
  },
  {
   "cell_type": "code",
   "execution_count": 18,
   "id": "4ef02252-adc7-47aa-b3d4-dd0f16dc50a8",
   "metadata": {},
   "outputs": [
    {
     "name": "stdout",
     "output_type": "stream",
     "text": [
      "Dataset shape after dropping null values : (3149, 5)\n"
     ]
    }
   ],
   "source": [
    "print(f\"Dataset shape after dropping null values : {data.shape}\")"
   ]
  },
  {
   "cell_type": "code",
   "execution_count": 19,
   "id": "f19e4ad9-d9ff-4c08-ada8-ff9ee83b2385",
   "metadata": {},
   "outputs": [],
   "source": [
    "#Creating a new column 'length' that will contain the length of the string in 'verified_reviews' column\n",
    "\n",
    "data['length'] = data['verified_reviews'].apply(len)"
   ]
  },
  {
   "cell_type": "code",
   "execution_count": 20,
   "id": "2d408acf-6f4d-49c4-9658-2a61a4363d18",
   "metadata": {},
   "outputs": [
    {
     "data": {
      "text/html": [
       "<div>\n",
       "<style scoped>\n",
       "    .dataframe tbody tr th:only-of-type {\n",
       "        vertical-align: middle;\n",
       "    }\n",
       "\n",
       "    .dataframe tbody tr th {\n",
       "        vertical-align: top;\n",
       "    }\n",
       "\n",
       "    .dataframe thead th {\n",
       "        text-align: right;\n",
       "    }\n",
       "</style>\n",
       "<table border=\"1\" class=\"dataframe\">\n",
       "  <thead>\n",
       "    <tr style=\"text-align: right;\">\n",
       "      <th></th>\n",
       "      <th>rating</th>\n",
       "      <th>date</th>\n",
       "      <th>variation</th>\n",
       "      <th>verified_reviews</th>\n",
       "      <th>feedback</th>\n",
       "      <th>length</th>\n",
       "    </tr>\n",
       "  </thead>\n",
       "  <tbody>\n",
       "    <tr>\n",
       "      <th>0</th>\n",
       "      <td>5</td>\n",
       "      <td>31-Jul-18</td>\n",
       "      <td>Charcoal Fabric</td>\n",
       "      <td>Love my Echo!</td>\n",
       "      <td>1</td>\n",
       "      <td>13</td>\n",
       "    </tr>\n",
       "    <tr>\n",
       "      <th>1</th>\n",
       "      <td>5</td>\n",
       "      <td>31-Jul-18</td>\n",
       "      <td>Charcoal Fabric</td>\n",
       "      <td>Loved it!</td>\n",
       "      <td>1</td>\n",
       "      <td>9</td>\n",
       "    </tr>\n",
       "    <tr>\n",
       "      <th>2</th>\n",
       "      <td>4</td>\n",
       "      <td>31-Jul-18</td>\n",
       "      <td>Walnut Finish</td>\n",
       "      <td>\"Sometimes while playing a game, you can answe...</td>\n",
       "      <td>1</td>\n",
       "      <td>197</td>\n",
       "    </tr>\n",
       "    <tr>\n",
       "      <th>3</th>\n",
       "      <td>5</td>\n",
       "      <td>31-Jul-18</td>\n",
       "      <td>Charcoal Fabric</td>\n",
       "      <td>\"I have had a lot of fun with this thing. My 4...</td>\n",
       "      <td>1</td>\n",
       "      <td>174</td>\n",
       "    </tr>\n",
       "    <tr>\n",
       "      <th>4</th>\n",
       "      <td>5</td>\n",
       "      <td>31-Jul-18</td>\n",
       "      <td>Charcoal Fabric</td>\n",
       "      <td>Music</td>\n",
       "      <td>1</td>\n",
       "      <td>5</td>\n",
       "    </tr>\n",
       "  </tbody>\n",
       "</table>\n",
       "</div>"
      ],
      "text/plain": [
       "   rating       date         variation  \\\n",
       "0       5  31-Jul-18  Charcoal Fabric    \n",
       "1       5  31-Jul-18  Charcoal Fabric    \n",
       "2       4  31-Jul-18    Walnut Finish    \n",
       "3       5  31-Jul-18  Charcoal Fabric    \n",
       "4       5  31-Jul-18  Charcoal Fabric    \n",
       "\n",
       "                                    verified_reviews  feedback  length  \n",
       "0                                      Love my Echo!         1      13  \n",
       "1                                          Loved it!         1       9  \n",
       "2  \"Sometimes while playing a game, you can answe...         1     197  \n",
       "3  \"I have had a lot of fun with this thing. My 4...         1     174  \n",
       "4                                              Music         1       5  "
      ]
     },
     "execution_count": 20,
     "metadata": {},
     "output_type": "execute_result"
    }
   ],
   "source": [
    "data.head()"
   ]
  },
  {
   "cell_type": "code",
   "execution_count": 21,
   "id": "90c64121-8097-43ca-927f-5d08919bc06a",
   "metadata": {},
   "outputs": [
    {
     "name": "stdout",
     "output_type": "stream",
     "text": [
      "'verified_reviews' column value: \"I sent it to my 85 year old Dad, and he talks to it constantly.\"\n",
      "Length of review : 65\n",
      "'length' column value : 65\n"
     ]
    }
   ],
   "source": [
    "#Randomly checking for 10th record\n",
    "\n",
    "print(f\"'verified_reviews' column value: {data.iloc[10]['verified_reviews']}\") #Original value\n",
    "print(f\"Length of review : {len(data.iloc[10]['verified_reviews'])}\") #Length of review using len()\n",
    "print(f\"'length' column value : {data.iloc[10]['length']}\") #Value of the column 'length'"
   ]
  },
  {
   "cell_type": "code",
   "execution_count": 22,
   "id": "f3b75eb8-21c0-47b6-aca0-60a55cfa1c06",
   "metadata": {},
   "outputs": [
    {
     "data": {
      "text/plain": [
       "rating               int64\n",
       "date                object\n",
       "variation           object\n",
       "verified_reviews    object\n",
       "feedback             int64\n",
       "length               int64\n",
       "dtype: object"
      ]
     },
     "execution_count": 22,
     "metadata": {},
     "output_type": "execute_result"
    }
   ],
   "source": [
    "data.dtypes"
   ]
  },
  {
   "cell_type": "code",
   "execution_count": null,
   "id": "d72f0dbd-0eff-4978-9148-64cadb56f5a9",
   "metadata": {},
   "outputs": [],
   "source": []
  }
 ],
 "metadata": {
  "kernelspec": {
   "display_name": "Python [conda env:base] *",
   "language": "python",
   "name": "conda-base-py"
  },
  "language_info": {
   "codemirror_mode": {
    "name": "ipython",
    "version": 3
   },
   "file_extension": ".py",
   "mimetype": "text/x-python",
   "name": "python",
   "nbconvert_exporter": "python",
   "pygments_lexer": "ipython3",
   "version": "3.13.5"
  }
 },
 "nbformat": 4,
 "nbformat_minor": 5
}
